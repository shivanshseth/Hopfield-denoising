{
 "cells": [
  {
   "cell_type": "code",
   "execution_count": 1,
   "id": "26133de4-c97c-4e12-9e4e-8880c8c364c9",
   "metadata": {},
   "outputs": [],
   "source": [
    "import numpy as np \n",
    "import matplotlib.pyplot as plt\n",
    "from PIL import Image\n",
    "import os"
   ]
  },
  {
   "cell_type": "code",
   "execution_count": 2,
   "id": "98e398b1-239f-48b9-91af-fed1a02e5e52",
   "metadata": {},
   "outputs": [],
   "source": [
    "class Hopfield:\n",
    "    def __init__(self, n, patterns, init = False, x = None, b = None, lr = 1):\n",
    "        self.n = n\n",
    "        self.lr = lr\n",
    "        self.x = patterns[-1]\n",
    "        self.patterns = patterns\n",
    "        self.w = None\n",
    "        self.b = b if b != None else np.zeros(n)\n",
    "    \n",
    "    def init_state(self, x):\n",
    "        if (len(x) != self.n): \n",
    "            print('DimError: dimension of new state not equal to n')\n",
    "            return\n",
    "        self.x = x\n",
    "        \n",
    "    def train(self):\n",
    "        n = self.n\n",
    "        w = np.zeros((n, n))\n",
    "        for p in self.patterns: \n",
    "            p = p.reshape((len(p), -1))\n",
    "            w += self.lr * p @ p.T\n",
    "            np.fill_diagonal(w, 0)\n",
    "        self.w = w\n",
    "        \n",
    "    def update(self, iters = 100):\n",
    "        c = 0\n",
    "        for j in range(iters):\n",
    "            i = np.random.randint(0, self.n)\n",
    "            h = np.dot(self.w[i][:], self.x)\n",
    "            if h >= 0: c+=1\n",
    "            self.x[i] = 1 if h >=0 else -1\n",
    "        return c\n",
    "    \n",
    "    def get_state(self):\n",
    "        return self.x\n",
    "    \n",
    "    def energy(self):\n",
    "        e = -0.5 * (self.x @ self.w @ self.x.T)/self.n\n",
    "        return e \n",
    "    \n",
    "    def error(self, i):\n",
    "        return np.mean((self.x - self.patterns[i])**2)"
   ]
  },
  {
   "cell_type": "code",
   "execution_count": 22,
   "id": "59512796-17b0-449d-83ce-9d9d31089d7e",
   "metadata": {},
   "outputs": [],
   "source": [
    "def readImg2array(file, shape, threshold= 100):\n",
    "    img = Image.open(file).convert(mode=\"L\")\n",
    "    img= img.resize(shape)\n",
    "    #pilIN.thumbnail(size,Image.ANTIALIAS)\n",
    "    imgArray = np.asarray(img,dtype=np.uint8)\n",
    "    x = np.zeros(imgArray.shape,dtype=np.float64)\n",
    "    x[imgArray > threshold] = 1\n",
    "    x[x==0] = -1\n",
    "    return x.flatten()\n",
    "\n",
    "def array2Img(data, outFile = None):\n",
    "    #data is 1 or -1 matrix\n",
    "    y = np.zeros(data.shape,dtype=np.uint8)\n",
    "    y[data==1] = 255\n",
    "    y[data==-1] = 0\n",
    "    img = Image.fromarray(y,mode=\"L\")\n",
    "    if outFile is not None:\n",
    "        img.save(outFile)\n",
    "    return img\n",
    "\n",
    "def addNoise(file, shape, d = 3, threshold = 90):\n",
    "    img = Image.open(file).convert(mode=\"L\")\n",
    "    img= np.asarray(img.resize(shape)).flatten()\n",
    "    noise = np.random.uniform(-225/d, 255/d, img.shape)\n",
    "    img = img + noise\n",
    "    x = np.zeros(img.shape,dtype=np.float64)\n",
    "    x[img > threshold] = 1\n",
    "    x[x==0] = -1\n",
    "    return x"
   ]
  },
  {
   "cell_type": "code",
   "execution_count": 18,
   "id": "a8058f98-b9f1-4146-ae60-a591cc2d2706",
   "metadata": {},
   "outputs": [],
   "source": [
    "iters = 500\n",
    "shape = (100, 100)\n",
    "train = []\n",
    "for i in os.listdir('images/'):\n",
    "    img = readImg2array('images/' + i, shape)\n",
    "    train.append(img)\n"
   ]
  },
  {
   "cell_type": "code",
   "execution_count": 30,
   "id": "97e93039-d339-4861-a38b-18a8766945f0",
   "metadata": {},
   "outputs": [
    {
     "name": "stdout",
     "output_type": "stream",
     "text": [
      "Stored memories:\n"
     ]
    },
    {
     "data": {
      "image/png": "[encoded data removed]",
      "text/plain": [
       "<PIL.Image.Image image mode=L size=100x100 at 0x7FF13DE85F10>"
      ]
     },
     "metadata": {},
     "output_type": "display_data"
    },
    {
     "data": {
      "image/png": "[encoded data removed]",
      "text/plain": [
       "<PIL.Image.Image image mode=L size=100x100 at 0x7FF10F7AA160>"
      ]
     },
     "metadata": {},
     "output_type": "display_data"
    },
    {
     "data": {
      "image/png": "[encoded data removed]",
      "text/plain": [
       "<PIL.Image.Image image mode=L size=100x100 at 0x7FF10F7AAB80>"
      ]
     },
     "metadata": {},
     "output_type": "display_data"
    },
    {
     "data": {
      "image/png": "[encoded data removed]",
      "text/plain": [
       "<PIL.Image.Image image mode=L size=100x100 at 0x7FF10F7AA160>"
      ]
     },
     "metadata": {},
     "output_type": "display_data"
    }
   ],
   "source": [
    "n = len(train[-1])\n",
    "# test = np.random.choice([-1, 1], n)\n",
    "print('Stored memories:')\n",
    "for i in train:\n",
    "    img1 = array2Img(i.reshape(shape))\n",
    "    img1.show()\n"
   ]
  },
  {
   "cell_type": "code",
   "execution_count": 31,
   "id": "e6983d09-3a45-48aa-b42b-e448faeda489",
   "metadata": {
    "tags": []
   },
   "outputs": [],
   "source": [
    "# n = 100\n",
    "# test = np.random.choice([-1, 1], n)\n",
    "# train = np.random.choice([-1, 1], n)\n",
    "hop = Hopfield(len(train[-1]), train)\n",
    "hop.train()\n"
   ]
  },
  {
   "cell_type": "code",
   "execution_count": 32,
   "id": "87dc6e65-067c-476f-aad3-628f1be6ec91",
   "metadata": {},
   "outputs": [
    {
     "name": "stdout",
     "output_type": "stream",
     "text": [
      "Stimulus:\n"
     ]
    },
    {
     "data": {
      "image/png": "[encoded data removed]",
      "text/plain": [
       "<PIL.Image.Image image mode=L size=100x100 at 0x7FF0DD4AB220>"
      ]
     },
     "metadata": {},
     "output_type": "display_data"
    }
   ],
   "source": [
    "test = addNoise('images/1.jpg', shape, 2)\n",
    "img2 = array2Img(test.reshape(shape))\n",
    "print('Stimulus:')\n",
    "img2.show()"
   ]
  },
  {
   "cell_type": "code",
   "execution_count": 33,
   "id": "41fd931a-f348-44b3-89f1-b0ce11320937",
   "metadata": {
    "tags": []
   },
   "outputs": [
    {
     "name": "stdout",
     "output_type": "stream",
     "text": [
      "0 -1457.2382 54\n",
      "100 -3700.5426 54\n",
      "200 -4838.7886 51\n",
      "300 -5278.627 54\n",
      "400 -5478.9558 53\n"
     ]
    }
   ],
   "source": [
    "hop.init_state(test)\n",
    "energy = []\n",
    "# forward pass\n",
    "for i in range(iters):\n",
    "    energy.append(hop.energy())\n",
    "    k = hop.update()\n",
    "    if i%100==0:\n",
    "        print(i, energy[-1], k)"
   ]
  },
  {
   "cell_type": "code",
   "execution_count": 34,
   "id": "8b2ee07f-7af2-4151-a106-97a74875d32d",
   "metadata": {
    "tags": []
   },
   "outputs": [
    {
     "data": {
      "image/png": "[encoded data removed]",
      "text/plain": [
       "<Figure size 432x288 with 1 Axes>"
      ]
     },
     "metadata": {
      "needs_background": "light"
     },
     "output_type": "display_data"
    }
   ],
   "source": [
    "plt.xlabel('Timesteps')\n",
    "plt.ylabel('Energy')\n",
    "plt.title('Energy minimized over time')\n",
    "plt.plot(range(len(energy)), energy)\n",
    "plt.show()"
   ]
  },
  {
   "cell_type": "code",
   "execution_count": 35,
   "id": "e2cd59b1-505d-45a4-9f8e-13922991f8fb",
   "metadata": {},
   "outputs": [
    {
     "name": "stdout",
     "output_type": "stream",
     "text": [
      "Memory retrieved\n"
     ]
    },
    {
     "data": {
      "image/png": "[encoded data removed]",
      "text/plain": [
       "<PIL.Image.Image image mode=L size=100x100 at 0x7FF0DDA24AC0>"
      ]
     },
     "metadata": {},
     "output_type": "display_data"
    }
   ],
   "source": [
    "img = array2Img(hop.x.reshape(shape))\n",
    "print('Memory retrieved')\n",
    "img.show()"
   ]
  },
  {
   "cell_type": "code",
   "execution_count": null,
   "id": "3dafbc7b-68c5-4711-8673-75742e4efbdc",
   "metadata": {},
   "outputs": [],
   "source": []
  },
  {
   "cell_type": "code",
   "execution_count": null,
   "id": "9522b1fa-a43a-4cb8-a8db-1ed3cf8b57f6",
   "metadata": {},
   "outputs": [],
   "source": []
  }
 ],
 "metadata": {
  "kernelspec": {
   "display_name": "logp",
   "language": "python",
   "name": "logp"
  },
  "language_info": {
   "codemirror_mode": {
    "name": "ipython",
    "version": 3
   },
   "file_extension": ".py",
   "mimetype": "text/x-python",
   "name": "python",
   "nbconvert_exporter": "python",
   "pygments_lexer": "ipython3",
   "version": "3.9.5"
  }
 },
 "nbformat": 4,
 "nbformat_minor": 5
}
